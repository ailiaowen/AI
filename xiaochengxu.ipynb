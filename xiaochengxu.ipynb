{
 "cells": [
  {
   "cell_type": "code",
   "execution_count": 1,
   "metadata": {},
   "outputs": [
    {
     "name": "stdout",
     "output_type": "stream",
     "text": [
      "                                                            \n",
      "                                                            \n",
      "                                                            \n",
      "                veLoveLov           veLoveLov               \n",
      "            eLoveLoveLoveLove   eLoveLoveLoveLove           \n",
      "          veLoveLoveLoveLoveLoveLoveLoveLoveLoveLov         \n",
      "         veLoveLoveLoveLoveLoveLoveLoveLoveLoveLoveL        \n",
      "        veLoveLoveLoveLoveLoveLoveLoveLoveLoveLoveLov       \n",
      "        eLoveLoveLoveLoveLoveLoveLoveLoveLoveLoveLove       \n",
      "        LoveLoveLoveLoveLoveLoveLoveLoveLoveLoveLoveL       \n",
      "        oveLoveLoveLoveLoveLoveLoveLoveLoveLoveLoveLo       \n",
      "        veLoveLoveLoveLoveLoveLoveLoveLoveLoveLoveLov       \n",
      "        eLoveLoveLoveLoveLoveLoveLoveLoveLoveLoveLove       \n",
      "         oveLoveLoveLoveLoveLoveLoveLoveLoveLoveLove        \n",
      "          eLoveLoveLoveLoveLoveLoveLoveLoveLoveLove         \n",
      "          LoveLoveLoveLoveLoveLoveLoveLoveLoveLoveL         \n",
      "            eLoveLoveLoveLoveLoveLoveLoveLoveLove           \n",
      "             oveLoveLoveLoveLoveLoveLoveLoveLove            \n",
      "              eLoveLoveLoveLoveLoveLoveLoveLove             \n",
      "                veLoveLoveLoveLoveLoveLoveLov               \n",
      "                  oveLoveLoveLoveLoveLoveLo                 \n",
      "                    LoveLoveLoveLoveLoveL                   \n",
      "                       LoveLoveLoveLov                      \n",
      "                          LoveLoveL                         \n",
      "                             Lov                            \n",
      "                              v                             \n",
      "                                                            \n",
      "                                                            \n",
      "                                                            \n",
      "                                                            \n"
     ]
    }
   ],
   "source": [
    "print('\\n'.join([''.join([('Love'[(x-y)%4]if((x*0.05)**2+(y*0.1)**2-1)**3-(x*0.05)**2*(y*0.1)**3<=0 else' ')for x in range(-30,30)])for y in range(15,-15,-1)]))\n"
   ]
  },
  {
   "cell_type": "code",
   "execution_count": 2,
   "metadata": {},
   "outputs": [
    {
     "name": "stdout",
     "output_type": "stream",
     "text": [
      "1*1=1 \n",
      "1*2=2  2*2=4 \n",
      "1*3=3  2*3=6  3*3=9 \n",
      "1*4=4  2*4=8  3*4=12 4*4=16\n",
      "1*5=5  2*5=10 3*5=15 4*5=20 5*5=25\n",
      "1*6=6  2*6=12 3*6=18 4*6=24 5*6=30 6*6=36\n",
      "1*7=7  2*7=14 3*7=21 4*7=28 5*7=35 6*7=42 7*7=49\n",
      "1*8=8  2*8=16 3*8=24 4*8=32 5*8=40 6*8=48 7*8=56 8*8=64\n",
      "1*9=9  2*9=18 3*9=27 4*9=36 5*9=45 6*9=54 7*9=63 8*9=72 9*9=81\n"
     ]
    }
   ],
   "source": [
    "print('\\n'.join([' '.join(['%s*%s=%-2s' % (y,x,x*y) for y in range(1,x+1)]) for x in range(1,10)]))"
   ]
  },
  {
   "cell_type": "code",
   "execution_count": 2,
   "metadata": {},
   "outputs": [
    {
     "name": "stdout",
     "output_type": "stream",
     "text": [
      "XRBxc\n",
      "GOmFcA\n",
      "输入你的名字XRBxc\n",
      "输入你的密码G0mFcA\n",
      "密码错误\n",
      "输入你的密码GOmFcA\n",
      "成功进入\n"
     ]
    }
   ],
   "source": [
    "import random\n",
    "import string\n",
    "p=\"\".join([random.choice(string.ascii_letters) for i in range(5)])\n",
    "q=\"\".join([random.choice(string.ascii_letters+string.hexdigits) for i in range(6)])\n",
    "print(p)\n",
    "print(q)\n",
    "#p,q就是初始化的用户和密码,p是用户名,q是密码，可以打印，可以不打印\n",
    " \n",
    "#flag，count是计数器\n",
    "flag=0\n",
    "count=0\n",
    "while True:\n",
    "    username=input(\"输入你的名字\")\n",
    "    if username == p:\n",
    "        while True:\n",
    "            passwd=input(\"输入你的密码\")\n",
    "            if passwd == q:\n",
    "                print(\"成功进入\")\n",
    "                break\n",
    "            else:\n",
    "                flag+=1\n",
    "                print('密码错误')\n",
    "                if flag == 3:\n",
    "                    print('密码错误三次')\n",
    "        break\n",
    "    else:\n",
    "        count+=1\n",
    "        print('用户名错误')\n",
    "    if count == 3:\n",
    "        print('用户名错误过多')\n",
    "        break"
   ]
  },
  {
   "cell_type": "code",
   "execution_count": 5,
   "metadata": {},
   "outputs": [
    {
     "name": "stdout",
     "output_type": "stream",
     "text": [
      "123\n",
      "124\n",
      "132\n",
      "134\n",
      "142\n",
      "143\n",
      "213\n",
      "214\n",
      "231\n",
      "234\n",
      "241\n",
      "243\n",
      "312\n",
      "314\n",
      "321\n",
      "324\n",
      "341\n",
      "342\n",
      "412\n",
      "413\n",
      "421\n",
      "423\n",
      "431\n",
      "432\n",
      "24\n"
     ]
    }
   ],
   "source": [
    "sum=0\n",
    "num=[]\n",
    "for i in range(1,5):\n",
    "\tfor j in range(1,5):\n",
    "\t\tfor k in range(1,5):\n",
    "\t\t\tif i!=j and j!=k and i!=k:\n",
    "\t\t\t\tstr1=\"\"\n",
    "\t\t\t\tstr1+=str(i)\n",
    "\t\t\t\tstr1+=str(j)\n",
    "\t\t\t\tstr1+=str(k)\n",
    "\t\t\t\tprint(str1)\n",
    "\t\t\t\tsum+=1\n",
    "print(sum)"
   ]
  },
  {
   "cell_type": "raw",
   "metadata": {},
   "source": [
    "I=input('Enter the profit:') #输入的是str\n",
    "I=int(I)  #转换成int\n",
    "m=[1000000,600000,400000,200000,100000,0]\n",
    "r=[0.01,0.015,0.03,0.05,0.075,0.1]\n",
    "\n",
    "sum=0\n",
    "\n",
    "for x in range(0,6):\n",
    "    if I>m[x]:\n",
    "        sum+=(I-m[x]*r[x])\n",
    "    \n",
    "print(sum)"
   ]
  },
  {
   "cell_type": "code",
   "execution_count": 15,
   "metadata": {},
   "outputs": [
    {
     "name": "stdout",
     "output_type": "stream",
     "text": [
      "Enter the profit:1100000\n",
      "40500.0\n"
     ]
    }
   ],
   "source": [
    "I=input('Enter the profit:') #输入的是str\n",
    "I=int(I)  #转换成int\n",
    "m=[1000000,600000,400000,200000,100000,0]\n",
    "r=[0.01,0.015,0.03,0.05,0.075,0.1]\n",
    "\n",
    "sum=0\n",
    "\n",
    "for x in range(0,6):\n",
    "    if I>m[x]:\n",
    "        sum+=((I-m[x])*r[x])\n",
    "        I=m[x]\n",
    "print(sum)"
   ]
  },
  {
   "cell_type": "code",
   "execution_count": 18,
   "metadata": {},
   "outputs": [
    {
     "name": "stdout",
     "output_type": "stream",
     "text": [
      "input X:21\n",
      "input Y:41\n",
      "input Z:2\n",
      "[41, 21, 2]\n"
     ]
    }
   ],
   "source": [
    "num=[]\n",
    "num.append(int(input(\"input X:\")))\n",
    "num.append(int(input(\"input Y:\")))\n",
    "num.append(int(input(\"input Z:\")))\n",
    "\n",
    "num.sort(reverse = True)\n",
    "print(num)"
   ]
  },
  {
   "cell_type": "code",
   "execution_count": 19,
   "metadata": {},
   "outputs": [
    {
     "name": "stdout",
     "output_type": "stream",
     "text": [
      "input:fqfh3o13ohr1\n",
      "letter: 8,space: 0,digit: 4,other: 0\n"
     ]
    }
   ],
   "source": [
    "import string\n",
    "\n",
    "def main():\n",
    "\tstr1=input(\"input:\")\n",
    "\tl=0\n",
    "\ts=0\n",
    "\td=0\n",
    "\to=0\n",
    "\t\n",
    "\tfor x in str1:\n",
    "\t\tif x.isalpha():\n",
    "\t\t\tl+=1\n",
    "\t\telif x.isspace():\n",
    "\t\t\ts+=1\n",
    "\t\telif x.isdigit():\n",
    "\t\t\td+=1\n",
    "\t\telse:\n",
    "\t\t\to+=1\n",
    "\t\t\t\n",
    "\tprint('letter: %d,space: %d,digit: %d,other: %d'%(l,s,d,o))\n",
    "\t\n",
    "if __name__=='__main__':\n",
    "\tmain()"
   ]
  },
  {
   "cell_type": "code",
   "execution_count": 20,
   "metadata": {},
   "outputs": [],
   "source": [
    "from tkinter import *\n",
    "def main():\n",
    "\n",
    "    c = Canvas(width=600, height=600, bg='blue')  \n",
    "    c.pack(expand=YES, fill=BOTH)                \n",
    "    k = 1\n",
    "    j = 1\n",
    "    for i in range(0,26):\n",
    "        c.create_oval(310 - k,250 - k,310 + k,250 + k, width=1)\n",
    "        k += j\n",
    "        j += 0.3\n",
    "\n",
    "    mainloop()\n",
    "\n",
    "if __name__=='__main__':\n",
    "\tmain()"
   ]
  },
  {
   "cell_type": "code",
   "execution_count": 24,
   "metadata": {},
   "outputs": [
    {
     "name": "stdout",
     "output_type": "stream",
     "text": [
      "21\n",
      "261\n",
      "1581\n"
     ]
    }
   ],
   "source": [
    "import math \n",
    "for i in range(10000): \n",
    "#转化为整型值 \n",
    "    x = int(math.sqrt(i + 100))\n",
    "    y = int(math.sqrt(i + 268)) \n",
    "    if(x * x == i + 100) and (y * y == i + 268): \n",
    "        print(i)"
   ]
  },
  {
   "cell_type": "code",
   "execution_count": 31,
   "metadata": {},
   "outputs": [
    {
     "name": "stdout",
     "output_type": "stream",
     "text": [
      "year:\n",
      "2019\n",
      "month:\n",
      "2\n",
      "day:\n",
      "3\n",
      "it is the 34th day.\n"
     ]
    }
   ],
   "source": [
    "year = int(input('year:\\n')) \n",
    "month = int(input('month:\\n')) \n",
    "day = int(input('day:\\n')) \n",
    "months = (0,31,59,90,120,151,181,212,243,273,304,334) \n",
    "if 0 <= month <= 12: \n",
    "    sum = months[month - 1] \n",
    "else: \n",
    "    print ('data error') \n",
    "sum += day \n",
    "leap = 0 \n",
    "if (year % 400 == 0) or ((year % 4 == 0) and (year % 100 != 0)): \n",
    "    leap = 1 \n",
    "if (leap == 1) and (month > 2): \n",
    "    sum += 1 \n",
    "print ('it is the %dth day.'% sum)"
   ]
  },
  {
   "cell_type": "code",
   "execution_count": 33,
   "metadata": {},
   "outputs": [
    {
     "name": "stdout",
     "output_type": "stream",
     "text": [
      "Hello Python world!\n",
      "\n",
      "**********\n",
      "*        *\n",
      "*        *\n",
      "*        *\n",
      "*        *\n",
      "*        *\n",
      "**********\n",
      "*\n",
      "*\n",
      "*\n",
      "*\n",
      "*\n",
      "*\n",
      "\n"
     ]
    }
   ],
   "source": [
    "print ('Hello Python world!\\n')\n",
    "print ('*' * 10)\n",
    "for i in range(5):\n",
    "    print ('*        *')\n",
    "print ('*' * 10)\n",
    "print ('*\\n' * 6)"
   ]
  },
  {
   "cell_type": "code",
   "execution_count": 35,
   "metadata": {},
   "outputs": [
    {
     "name": "stdout",
     "output_type": "stream",
     "text": [
      "Û ° ° ° Û\n",
      "° Û ° Û °\n",
      "° ° Û ° °\n",
      "° Û ° Û °\n",
      "Û ° ° ° Û\n"
     ]
    }
   ],
   "source": [
    "a = 176 \n",
    "b = 219 \n",
    "print (chr(b),chr(a),chr(a),chr(a),chr(b))\n",
    "print (chr(a),chr(b),chr(a),chr(b),chr(a)) \n",
    "print (chr(a),chr(a),chr(b),chr(a),chr(a))\n",
    "print (chr(a),chr(b),chr(a),chr(b),chr(a))\n",
    "print (chr(b),chr(a),chr(a),chr(a),chr(b))\n"
   ]
  },
  {
   "cell_type": "code",
   "execution_count": 37,
   "metadata": {},
   "outputs": [
    {
     "name": "stdout",
     "output_type": "stream",
     "text": [
      "ÛÛ ÛÛ ÛÛ ÛÛ \n",
      " ÛÛ ÛÛ ÛÛ ÛÛ\n",
      "ÛÛ ÛÛ ÛÛ ÛÛ \n",
      " ÛÛ ÛÛ ÛÛ ÛÛ\n",
      "ÛÛ ÛÛ ÛÛ ÛÛ \n",
      " ÛÛ ÛÛ ÛÛ ÛÛ\n",
      "ÛÛ ÛÛ ÛÛ ÛÛ \n",
      " ÛÛ ÛÛ ÛÛ ÛÛ\n"
     ]
    }
   ],
   "source": [
    "import sys \n",
    "for i in range(8): \n",
    "    for j in range(8): \n",
    "        if(i + j) % 2 == 0: \n",
    "            sys.stdout.write(chr(219)) \n",
    "            sys.stdout.write(chr(219)) \n",
    "        else: \n",
    "            sys.stdout.write(' ') \n",
    "    print ('')"
   ]
  },
  {
   "cell_type": "code",
   "execution_count": 38,
   "metadata": {},
   "outputs": [
    {
     "name": "stdout",
     "output_type": "stream",
     "text": [
      "\u0001\u0001\n",
      "\n",
      "ÛÛ\n",
      "ÛÛÛÛ\n",
      "ÛÛÛÛÛÛ\n",
      "ÛÛÛÛÛÛÛÛ\n",
      "ÛÛÛÛÛÛÛÛÛÛ\n",
      "ÛÛÛÛÛÛÛÛÛÛÛÛ\n",
      "ÛÛÛÛÛÛÛÛÛÛÛÛÛÛ\n",
      "ÛÛÛÛÛÛÛÛÛÛÛÛÛÛÛÛ\n",
      "ÛÛÛÛÛÛÛÛÛÛÛÛÛÛÛÛÛÛ\n"
     ]
    }
   ],
   "source": [
    "import sys \n",
    "sys.stdout.write(chr(1)) \n",
    "sys.stdout.write(chr(1)) \n",
    "print ('') \n",
    "for i in range(1,11): \n",
    "    for j in range(1,i): \n",
    "        sys.stdout.write(chr(219)) \n",
    "        sys.stdout.write(chr(219)) \n",
    "    print ('')"
   ]
  },
  {
   "cell_type": "code",
   "execution_count": 39,
   "metadata": {},
   "outputs": [
    {
     "name": "stdout",
     "output_type": "stream",
     "text": [
      "input number:\n",
      "90\n",
      "n = 90\n",
      "2*3*3*5\n"
     ]
    }
   ],
   "source": [
    "from sys import stdout \n",
    "n = int(input(\"input number:\\n\")) \n",
    "print (\"n = %d\" % n) \n",
    "for i in range(2,n + 1): \n",
    "    while n != i: \n",
    "        if n % i == 0: \n",
    "            stdout.write(str(i))\n",
    "            stdout.write(\"*\") \n",
    "            n = n / i \n",
    "        else: \n",
    "            break \n",
    "print (\"%d\" % n)"
   ]
  },
  {
   "cell_type": "code",
   "execution_count": null,
   "metadata": {},
   "outputs": [],
   "source": []
  }
 ],
 "metadata": {
  "kernelspec": {
   "display_name": "Python 3",
   "language": "python",
   "name": "python3"
  },
  "language_info": {
   "codemirror_mode": {
    "name": "ipython",
    "version": 3
   },
   "file_extension": ".py",
   "mimetype": "text/x-python",
   "name": "python",
   "nbconvert_exporter": "python",
   "pygments_lexer": "ipython3",
   "version": "3.7.3"
  }
 },
 "nbformat": 4,
 "nbformat_minor": 2
}
