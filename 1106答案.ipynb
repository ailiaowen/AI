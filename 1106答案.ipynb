{
  "cells": [
    {
      "cell_type": "markdown",
      "metadata": {
        "pycharm": {}
      },
      "source": [
        "# 实验一\n",
        "自定义深度卷积申请网络，并在Kaggle猫/狗数据集上进行训练和测试"
      ]
    },
    {
      "cell_type": "markdown",
      "metadata": {
        "pycharm": {}
      },
      "source": [
        "## 1.加载keras模块"
      ]
    },
    {
      "cell_type": "code",
      "execution_count": 1,
      "metadata": {
        "pycharm": {
          "is_executing": false
        }
      },
      "outputs": [
        {
          "name": "stderr",
          "text": [
            "Using TensorFlow backend.\nc:\\program files\\python36\\lib\\site-packages\\tensorflow\\python\\framework\\dtypes.py:523: FutureWarning: Passing (type, 1) or \u00271type\u0027 as a synonym of type is deprecated; in a future version of numpy, it will be understood as (type, (1,)) / \u0027(1,)type\u0027.\n  _np_qint8 \u003d np.dtype([(\"qint8\", np.int8, 1)])\nc:\\program files\\python36\\lib\\site-packages\\tensorflow\\python\\framework\\dtypes.py:524: FutureWarning: Passing (type, 1) or \u00271type\u0027 as a synonym of type is deprecated; in a future version of numpy, it will be understood as (type, (1,)) / \u0027(1,)type\u0027.\n  _np_quint8 \u003d np.dtype([(\"quint8\", np.uint8, 1)])\nc:\\program files\\python36\\lib\\site-packages\\tensorflow\\python\\framework\\dtypes.py:525: FutureWarning: Passing (type, 1) or \u00271type\u0027 as a synonym of type is deprecated; in a future version of numpy, it will be understood as (type, (1,)) / \u0027(1,)type\u0027.\n  _np_qint16 \u003d np.dtype([(\"qint16\", np.int16, 1)])\nc:\\program files\\python36\\lib\\site-packages\\tensorflow\\python\\framework\\dtypes.py:526: FutureWarning: Passing (type, 1) or \u00271type\u0027 as a synonym of type is deprecated; in a future version of numpy, it will be understood as (type, (1,)) / \u0027(1,)type\u0027.\n  _np_quint16 \u003d np.dtype([(\"quint16\", np.uint16, 1)])\nc:\\program files\\python36\\lib\\site-packages\\tensorflow\\python\\framework\\dtypes.py:527: FutureWarning: Passing (type, 1) or \u00271type\u0027 as a synonym of type is deprecated; in a future version of numpy, it will be understood as (type, (1,)) / \u0027(1,)type\u0027.\n  _np_qint32 \u003d np.dtype([(\"qint32\", np.int32, 1)])\nc:\\program files\\python36\\lib\\site-packages\\tensorflow\\python\\framework\\dtypes.py:532: FutureWarning: Passing (type, 1) or \u00271type\u0027 as a synonym of type is deprecated; in a future version of numpy, it will be understood as (type, (1,)) / \u0027(1,)type\u0027.\n  np_resource \u003d np.dtype([(\"resource\", np.ubyte, 1)])\n"
          ],
          "output_type": "stream"
        }
      ],
      "source": [
        "from keras.preprocessing.image import ImageDataGenerator\n",
        "from keras.models import Sequential\n",
        "from keras.layers import Conv2D, MaxPooling2D\n",
        "from keras.layers import Activation, Dropout, Flatten, Dense\n",
        "from keras.utils import to_categorical\n",
        "from keras.preprocessing.image import img_to_array\n",
        "from keras.applications.vgg16 import preprocess_input\n",
        "from keras import backend as K\n",
        "import numpy as np"
      ]
    },
    {
      "cell_type": "markdown",
      "metadata": {
        "pycharm": {}
      },
      "source": [
        "### 定义CNN网络结构\n",
        "首先尝试：自定义深度CNN模型结构\n",
        "\n",
        "然后尝试：定义Alex/VGG网络结构\n"
      ]
    },
    {
      "cell_type": "code",
      "execution_count": 5,
      "metadata": {
        "scrolled": true,
        "pycharm": {
          "is_executing": false
        }
      },
      "outputs": [],
      "source": "img_width, img_height \u003d 150, 150\nif K.image_data_format() \u003d\u003d \u0027channels_first\u0027:\n    input_shape \u003d (3, img_width, img_height)\nelse:\n    input_shape \u003d (img_width, img_height, 3)\n    \n    \nmodel \u003d Sequential()\nmodel.add(Conv2D(32, (3, 3), input_shape\u003dinput_shape))\nmodel.add(Activation(\u0027relu\u0027))\nmodel.add(MaxPooling2D(pool_size\u003d(2, 2)))\n\nmodel.add(Conv2D(32, (3, 3)))\nmodel.add(Activation(\u0027relu\u0027))\nmodel.add(MaxPooling2D(pool_size\u003d(2, 2)))\n\nmodel.add(Conv2D(64, (3, 3)))\nmodel.add(Activation(\u0027relu\u0027))\nmodel.add(MaxPooling2D(pool_size\u003d(2, 2)))\n\nmodel.add(Flatten())\nmodel.add(Dense(64))\nmodel.add(Activation(\u0027relu\u0027))\nmodel.add(Dropout(0.5))\nmodel.add(Dense(1))\nmodel.add(Activation(\u0027sigmoid\u0027))\n\nmodel.compile(loss\u003d\u0027binary_crossentropy\u0027,\n              optimizer\u003d\u0027rmsprop\u0027,\n              metrics\u003d[\u0027accuracy\u0027])"
    },
    {
      "cell_type": "markdown",
      "metadata": {
        "pycharm": {}
      },
      "source": [
        "### 查看model架构\n",
        "\n"
      ]
    },
    {
      "cell_type": "code",
      "execution_count": 7,
      "metadata": {
        "pycharm": {
          "is_executing": false
        }
      },
      "outputs": [
        {
          "name": "stdout",
          "text": [
            "_________________________________________________________________\nLayer (type)                 Output Shape              Param #   \n\u003d\u003d\u003d\u003d\u003d\u003d\u003d\u003d\u003d\u003d\u003d\u003d\u003d\u003d\u003d\u003d\u003d\u003d\u003d\u003d\u003d\u003d\u003d\u003d\u003d\u003d\u003d\u003d\u003d\u003d\u003d\u003d\u003d\u003d\u003d\u003d\u003d\u003d\u003d\u003d\u003d\u003d\u003d\u003d\u003d\u003d\u003d\u003d\u003d\u003d\u003d\u003d\u003d\u003d\u003d\u003d\u003d\u003d\u003d\u003d\u003d\u003d\u003d\u003d\u003d\nconv2d_7 (Conv2D)            (None, 148, 148, 64)      1792      \n_________________________________________________________________\nactivation_11 (Activation)   (None, 148, 148, 64)      0         \n_________________________________________________________________\nmax_pooling2d_7 (MaxPooling2 (None, 74, 74, 64)        0         \n_________________________________________________________________\nconv2d_8 (Conv2D)            (None, 72, 72, 32)        18464     \n_________________________________________________________________\nactivation_12 (Activation)   (None, 72, 72, 32)        0         \n_________________________________________________________________\nmax_pooling2d_8 (MaxPooling2 (None, 36, 36, 32)        0         \n_________________________________________________________________\nconv2d_9 (Conv2D)            (None, 34, 34, 64)        18496     \n_________________________________________________________________\nactivation_13 (Activation)   (None, 34, 34, 64)        0         \n_________________________________________________________________\nmax_pooling2d_9 (MaxPooling2 (None, 17, 17, 64)        0         \n_________________________________________________________________\nflatten_3 (Flatten)          (None, 18496)             0         \n_________________________________________________________________\ndense_5 (Dense)              (None, 64)                1183808   \n_________________________________________________________________\nactivation_14 (Activation)   (None, 64)                0         \n_________________________________________________________________\ndropout_3 (Dropout)          (None, 64)                0         \n_________________________________________________________________\ndense_6 (Dense)              (None, 1)                 65        \n_________________________________________________________________\nactivation_15 (Activation)   (None, 1)                 0         \n\u003d\u003d\u003d\u003d\u003d\u003d\u003d\u003d\u003d\u003d\u003d\u003d\u003d\u003d\u003d\u003d\u003d\u003d\u003d\u003d\u003d\u003d\u003d\u003d\u003d\u003d\u003d\u003d\u003d\u003d\u003d\u003d\u003d\u003d\u003d\u003d\u003d\u003d\u003d\u003d\u003d\u003d\u003d\u003d\u003d\u003d\u003d\u003d\u003d\u003d\u003d\u003d\u003d\u003d\u003d\u003d\u003d\u003d\u003d\u003d\u003d\u003d\u003d\u003d\u003d\nTotal params: 1,222,625\nTrainable params: 1,222,625\nNon-trainable params: 0\n_________________________________________________________________\n"
          ],
          "output_type": "stream"
        }
      ],
      "source": [
        "model.summary()"
      ]
    },
    {
      "cell_type": "markdown",
      "metadata": {
        "pycharm": {}
      },
      "source": [
        "### 定义ImageDataGenerator\n"
      ]
    },
    {
      "cell_type": "code",
      "execution_count": 8,
      "metadata": {
        "pycharm": {}
      },
      "outputs": [
        {
          "name": "stdout",
          "output_type": "stream",
          "text": [
            "Found 10835 images belonging to 2 classes.\n",
            "Found 4000 images belonging to 2 classes.\n"
          ]
        }
      ],
      "source": [
        "train_data_dir \u003d r\u0027C:\\Users\\coffe\\Desktop\\dogs-vs-cats\\train\u0027\n",
        "validation_data_dir \u003d r\u0027C:\\Users\\coffe\\Desktop\\dogs-vs-cats\\validation\u0027\n",
        "nb_train_samples \u003d 10835\n",
        "nb_validation_samples \u003d 4000\n",
        "epochs \u003d 1\n",
        "batch_size \u003d 20\n",
        "\n",
        "\n",
        "# this is the augmentation configuration we will use for training\n",
        "train_datagen \u003d ImageDataGenerator(\n",
        "    rescale\u003d1. / 255,\n",
        "    shear_range\u003d0.2,\n",
        "    zoom_range\u003d0.2,\n",
        "    horizontal_flip\u003dTrue)\n",
        "\n",
        "# this is the augmentation configuration we will use for testing:\n",
        "# only rescaling\n",
        "test_datagen \u003d ImageDataGenerator(rescale\u003d1. / 255)\n",
        "\n",
        "train_generator \u003d train_datagen.flow_from_directory(\n",
        "    train_data_dir,\n",
        "    target_size\u003d(img_width, img_height),\n",
        "    batch_size\u003dbatch_size,\n",
        "    class_mode\u003d\u0027binary\u0027)\n",
        "\n",
        "validation_generator \u003d test_datagen.flow_from_directory(\n",
        "    validation_data_dir,\n",
        "    target_size\u003d(img_width, img_height),\n",
        "    batch_size\u003dbatch_size,\n",
        "    class_mode\u003d\u0027binary\u0027)\n",
        "\n"
      ]
    },
    {
      "cell_type": "markdown",
      "metadata": {
        "pycharm": {}
      },
      "source": [
        "### 训练模型\n",
        "\n"
      ]
    },
    {
      "cell_type": "code",
      "execution_count": 9,
      "metadata": {
        "scrolled": true,
        "pycharm": {}
      },
      "outputs": [
        {
          "name": "stdout",
          "output_type": "stream",
          "text": [
            "Epoch 1/1\n",
            "541/541 [\u003d\u003d\u003d\u003d\u003d\u003d\u003d\u003d\u003d\u003d\u003d\u003d\u003d\u003d\u003d\u003d\u003d\u003d\u003d\u003d\u003d\u003d\u003d\u003d\u003d\u003d\u003d\u003d\u003d\u003d] - 88s 163ms/step - loss: 0.5732 - accuracy: 0.7074 - val_loss: 0.6979 - val_accuracy: 0.7228\n"
          ]
        },
        {
          "data": {
            "text/plain": [
              "\u003ckeras.callbacks.callbacks.History at 0x1f2a2772a58\u003e"
            ]
          },
          "execution_count": 9,
          "metadata": {},
          "output_type": "execute_result"
        }
      ],
      "source": [
        "model.fit_generator(\n",
        "    train_generator,\n",
        "    steps_per_epoch\u003dnb_train_samples // batch_size,\n",
        "    epochs\u003depochs,\n",
        "    validation_data\u003dvalidation_generator,\n",
        "    validation_steps\u003dnb_validation_samples // batch_size)"
      ]
    },
    {
      "cell_type": "markdown",
      "metadata": {
        "pycharm": {}
      },
      "source": [
        "### 使用训练后模型预测图像\n",
        "\n",
        "\n",
        "\n"
      ]
    },
    {
      "cell_type": "code",
      "execution_count": 35,
      "metadata": {
        "pycharm": {}
      },
      "outputs": [
        {
          "name": "stdout",
          "output_type": "stream",
          "text": [
            "[[0.]]\n"
          ]
        }
      ],
      "source": [
        "import cv2\n",
        "img \u003d cv2.resize(cv2.imread(r\u0027C:\\Users\\coffe\\Desktop\\dogs-vs-cats\\test\\7.jpg\u0027), (img_width, img_height)).astype(np.float32)\n",
        "\n",
        "#img \u003d img.transpose((2,0,1))\n",
        "x \u003d img_to_array(img)\n",
        "\n",
        "x \u003d np.expand_dims(x, axis\u003d0)\n",
        "\n",
        "#x \u003d preprocess_input(x)\n",
        "\n",
        "score \u003d model.predict(x)\n",
        "\n",
        "\n",
        "print(score)"
      ]
    }
  ],
  "metadata": {
    "kernelspec": {
      "display_name": "Python 3",
      "language": "python",
      "name": "python3"
    },
    "language_info": {
      "codemirror_mode": {
        "name": "ipython",
        "version": 3
      },
      "file_extension": ".py",
      "mimetype": "text/x-python",
      "name": "python",
      "nbconvert_exporter": "python",
      "pygments_lexer": "ipython3",
      "version": "3.6.8"
    },
    "ssap_exp_config": {
      "error_alert": "Error Occurs!",
      "initial": [],
      "max_iteration": 1000,
      "recv_id": "",
      "running": [],
      "summary": [],
      "version": "1.1.1"
    }
  },
  "nbformat": 4,
  "nbformat_minor": 1
}